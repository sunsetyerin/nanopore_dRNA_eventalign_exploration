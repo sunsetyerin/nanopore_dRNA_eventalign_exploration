{
 "cells": [
  {
   "cell_type": "code",
   "execution_count": 38,
   "metadata": {},
   "outputs": [],
   "source": [
    "import numpy as np\n",
    "import pandas as pd\n",
    "import matplotlib.pyplot as plt\n",
    "import seaborn as sns\n",
    "from sklearn.linear_model import LogisticRegression\n",
    "from sklearn.model_selection import train_test_split"
   ]
  },
  {
   "cell_type": "code",
   "execution_count": 39,
   "metadata": {},
   "outputs": [],
   "source": [
    "df = pd.read_csv(\"/projects/ly_vu_direct_rna/MetaCompore/results/xpore/xpore_eventalign/MYC/cnot3_test_0_data_MYC.tsv\",sep=\"\\t\")"
   ]
  },
  {
   "cell_type": "code",
   "execution_count": 40,
   "metadata": {},
   "outputs": [],
   "source": [
    "df.columns = [\"contig\",\"position\",\"reference_kmer\",\"read_index\",\"strand\",\"event_index\",\"event_level_mean\",\"event_stdv\",\"event_length\",\"model_kmer\",\"model_mean\",\"model_stdv\",\"standardized_level\",\"start_idx\",\"end_idx\"]"
   ]
  },
  {
   "cell_type": "code",
   "execution_count": 41,
   "metadata": {},
   "outputs": [
    {
     "data": {
      "text/html": [
       "<div>\n",
       "<style scoped>\n",
       "    .dataframe tbody tr th:only-of-type {\n",
       "        vertical-align: middle;\n",
       "    }\n",
       "\n",
       "    .dataframe tbody tr th {\n",
       "        vertical-align: top;\n",
       "    }\n",
       "\n",
       "    .dataframe thead th {\n",
       "        text-align: right;\n",
       "    }\n",
       "</style>\n",
       "<table border=\"1\" class=\"dataframe\">\n",
       "  <thead>\n",
       "    <tr style=\"text-align: right;\">\n",
       "      <th></th>\n",
       "      <th>contig</th>\n",
       "      <th>position</th>\n",
       "      <th>reference_kmer</th>\n",
       "      <th>read_index</th>\n",
       "      <th>strand</th>\n",
       "      <th>event_index</th>\n",
       "      <th>event_level_mean</th>\n",
       "      <th>event_stdv</th>\n",
       "      <th>event_length</th>\n",
       "      <th>model_kmer</th>\n",
       "      <th>model_mean</th>\n",
       "      <th>model_stdv</th>\n",
       "      <th>standardized_level</th>\n",
       "      <th>start_idx</th>\n",
       "      <th>end_idx</th>\n",
       "    </tr>\n",
       "  </thead>\n",
       "  <tbody>\n",
       "    <tr>\n",
       "      <th>0</th>\n",
       "      <td>ENST00000377970.6</td>\n",
       "      <td>0</td>\n",
       "      <td>CTGCT</td>\n",
       "      <td>664445</td>\n",
       "      <td>t</td>\n",
       "      <td>10</td>\n",
       "      <td>98.27</td>\n",
       "      <td>1.969</td>\n",
       "      <td>0.00233</td>\n",
       "      <td>CTGCT</td>\n",
       "      <td>96.87</td>\n",
       "      <td>3.13</td>\n",
       "      <td>0.38</td>\n",
       "      <td>104237</td>\n",
       "      <td>104244</td>\n",
       "    </tr>\n",
       "    <tr>\n",
       "      <th>1</th>\n",
       "      <td>ENST00000377970.6</td>\n",
       "      <td>1</td>\n",
       "      <td>TGCTC</td>\n",
       "      <td>664445</td>\n",
       "      <td>t</td>\n",
       "      <td>11</td>\n",
       "      <td>109.60</td>\n",
       "      <td>5.097</td>\n",
       "      <td>0.00467</td>\n",
       "      <td>TGCTC</td>\n",
       "      <td>108.76</td>\n",
       "      <td>3.55</td>\n",
       "      <td>0.20</td>\n",
       "      <td>104223</td>\n",
       "      <td>104237</td>\n",
       "    </tr>\n",
       "    <tr>\n",
       "      <th>2</th>\n",
       "      <td>ENST00000377970.6</td>\n",
       "      <td>2</td>\n",
       "      <td>GCTCG</td>\n",
       "      <td>664445</td>\n",
       "      <td>t</td>\n",
       "      <td>12</td>\n",
       "      <td>79.01</td>\n",
       "      <td>1.978</td>\n",
       "      <td>0.00333</td>\n",
       "      <td>GCTCG</td>\n",
       "      <td>78.06</td>\n",
       "      <td>2.85</td>\n",
       "      <td>0.28</td>\n",
       "      <td>104213</td>\n",
       "      <td>104223</td>\n",
       "    </tr>\n",
       "    <tr>\n",
       "      <th>3</th>\n",
       "      <td>ENST00000377970.6</td>\n",
       "      <td>2</td>\n",
       "      <td>GCTCG</td>\n",
       "      <td>664445</td>\n",
       "      <td>t</td>\n",
       "      <td>13</td>\n",
       "      <td>80.79</td>\n",
       "      <td>2.180</td>\n",
       "      <td>0.00433</td>\n",
       "      <td>GCTCG</td>\n",
       "      <td>78.06</td>\n",
       "      <td>2.85</td>\n",
       "      <td>0.81</td>\n",
       "      <td>104200</td>\n",
       "      <td>104213</td>\n",
       "    </tr>\n",
       "    <tr>\n",
       "      <th>4</th>\n",
       "      <td>ENST00000377970.6</td>\n",
       "      <td>2</td>\n",
       "      <td>GCTCG</td>\n",
       "      <td>664445</td>\n",
       "      <td>t</td>\n",
       "      <td>14</td>\n",
       "      <td>77.04</td>\n",
       "      <td>1.740</td>\n",
       "      <td>0.00867</td>\n",
       "      <td>GCTCG</td>\n",
       "      <td>78.06</td>\n",
       "      <td>2.85</td>\n",
       "      <td>-0.30</td>\n",
       "      <td>104174</td>\n",
       "      <td>104200</td>\n",
       "    </tr>\n",
       "  </tbody>\n",
       "</table>\n",
       "</div>"
      ],
      "text/plain": [
       "              contig  position reference_kmer  read_index strand  event_index  \\\n",
       "0  ENST00000377970.6         0          CTGCT      664445      t           10   \n",
       "1  ENST00000377970.6         1          TGCTC      664445      t           11   \n",
       "2  ENST00000377970.6         2          GCTCG      664445      t           12   \n",
       "3  ENST00000377970.6         2          GCTCG      664445      t           13   \n",
       "4  ENST00000377970.6         2          GCTCG      664445      t           14   \n",
       "\n",
       "   event_level_mean  event_stdv  event_length model_kmer  model_mean  \\\n",
       "0             98.27       1.969       0.00233      CTGCT       96.87   \n",
       "1            109.60       5.097       0.00467      TGCTC      108.76   \n",
       "2             79.01       1.978       0.00333      GCTCG       78.06   \n",
       "3             80.79       2.180       0.00433      GCTCG       78.06   \n",
       "4             77.04       1.740       0.00867      GCTCG       78.06   \n",
       "\n",
       "   model_stdv  standardized_level  start_idx  end_idx  \n",
       "0        3.13                0.38     104237   104244  \n",
       "1        3.55                0.20     104223   104237  \n",
       "2        2.85                0.28     104213   104223  \n",
       "3        2.85                0.81     104200   104213  \n",
       "4        2.85               -0.30     104174   104200  "
      ]
     },
     "execution_count": 41,
     "metadata": {},
     "output_type": "execute_result"
    }
   ],
   "source": [
    "df.head()"
   ]
  },
  {
   "cell_type": "code",
   "execution_count": 42,
   "metadata": {},
   "outputs": [
    {
     "name": "stdout",
     "output_type": "stream",
     "text": [
      "            position     read_index    event_index  event_level_mean  \\\n",
      "count  691579.000000  691579.000000  691579.000000     691579.000000   \n",
      "mean     1121.928955  664513.623207    2701.849442         95.344854   \n",
      "std       672.700077      39.851666    1611.656332         17.517032   \n",
      "min         0.000000  664445.000000       1.000000         48.320000   \n",
      "25%       531.000000  664479.000000    1355.000000         80.610000   \n",
      "50%      1103.000000  664513.000000    2650.000000         93.030000   \n",
      "75%      1696.000000  664548.000000    3941.000000        109.210000   \n",
      "max      2346.000000  664587.000000    9407.000000        151.400000   \n",
      "\n",
      "          event_stdv   event_length     model_mean     model_stdv  \\\n",
      "count  691579.000000  691579.000000  691579.000000  691579.000000   \n",
      "mean        3.654939       0.007056      93.756895       3.620649   \n",
      "std         2.749940       0.005833      20.299477       1.596048   \n",
      "min         0.000000       0.001670       0.000000       0.000000   \n",
      "25%         1.776000       0.003000      80.100000       2.600000   \n",
      "50%         2.734000       0.005000      92.590000       3.170000   \n",
      "75%         4.590000       0.009000     109.320000       4.490000   \n",
      "max        28.824000       0.132000     136.890000       9.690000   \n",
      "\n",
      "       standardized_level      start_idx        end_idx  \n",
      "count           691579.00  691579.000000  691579.000000  \n",
      "mean                  inf   67667.326142   67688.495835  \n",
      "std                   NaN   34905.811105   34905.976432  \n",
      "min                -14.15    3565.000000    3581.000000  \n",
      "25%                 -0.61   38759.000000   38778.000000  \n",
      "50%                  0.09   65970.000000   65990.000000  \n",
      "75%                  0.79   93128.500000   93151.000000  \n",
      "max                   inf  216576.000000  216583.000000  \n"
     ]
    }
   ],
   "source": [
    "print(df.describe())"
   ]
  },
  {
   "cell_type": "code",
   "execution_count": 43,
   "metadata": {},
   "outputs": [],
   "source": [
    "df.loc[ df['event_level_mean'] <= 80.100000, 'event_level_mean'] = 0\n",
    "df.loc[(df['event_level_mean'] > 80.100000) & (df['event_level_mean'] <= 92.590000), 'event_level_mean'] = 1\n",
    "df.loc[(df['event_level_mean'] > 92.590000) & (df['event_level_mean'] <= 109.320000), 'event_level_mean']   = 2\n",
    "df.loc[ df['event_level_mean'] > 109.320000, 'event_level_mean'] = 3\n",
    "df['event_level_mean'] = df['event_level_mean'].astype(int)"
   ]
  },
  {
   "cell_type": "code",
   "execution_count": 44,
   "metadata": {},
   "outputs": [],
   "source": [
    "y = df.event_level_mean.values\n",
    "x_data = df.drop(['event_level_mean',\"contig\",\"read_index\",\"strand\",\"event_index\",\"event_stdv\",\"model_kmer\",\"model_stdv\",\"standardized_level\",\"start_idx\",\"end_idx\"], axis = 1)"
   ]
  },
  {
   "cell_type": "code",
   "execution_count": 45,
   "metadata": {},
   "outputs": [
    {
     "name": "stderr",
     "output_type": "stream",
     "text": [
      "/projects/ly_vu_direct_rna/pipeline-polya-diff/.snakemake/conda/b03f8a95a14cdc0ca0aa7496df1e519e/lib/python3.11/site-packages/numpy/core/fromnumeric.py:84: FutureWarning: In a future version, DataFrame.min(axis=None) will return a scalar min over the entire DataFrame. To retain the old behavior, use 'frame.min(axis=0)' or just 'frame.min()'\n",
      "  return reduction(axis=axis, out=out, **passkwargs)\n",
      "/projects/ly_vu_direct_rna/pipeline-polya-diff/.snakemake/conda/b03f8a95a14cdc0ca0aa7496df1e519e/lib/python3.11/site-packages/numpy/core/fromnumeric.py:84: FutureWarning: In a future version, DataFrame.max(axis=None) will return a scalar max over the entire DataFrame. To retain the old behavior, use 'frame.max(axis=0)' or just 'frame.max()'\n",
      "  return reduction(axis=axis, out=out, **passkwargs)\n",
      "/projects/ly_vu_direct_rna/pipeline-polya-diff/.snakemake/conda/b03f8a95a14cdc0ca0aa7496df1e519e/lib/python3.11/site-packages/numpy/core/fromnumeric.py:84: FutureWarning: In a future version, DataFrame.min(axis=None) will return a scalar min over the entire DataFrame. To retain the old behavior, use 'frame.min(axis=0)' or just 'frame.min()'\n",
      "  return reduction(axis=axis, out=out, **passkwargs)\n"
     ]
    }
   ],
   "source": [
    "# Normalize\n",
    "x_data['reference_kmer'] = pd.factorize(x_data['reference_kmer'])[0]\n",
    "x = (x_data - np.min(x_data)) / (np.max(x_data) - np.min(x_data)).values"
   ]
  },
  {
   "cell_type": "code",
   "execution_count": 46,
   "metadata": {},
   "outputs": [],
   "source": [
    "# 80% of our data will be train data and 20% of it will be test data\n",
    "x_train, x_test, y_train, y_test = train_test_split(x,y,test_size = 0.2,random_state=0)"
   ]
  },
  {
   "cell_type": "code",
   "execution_count": 47,
   "metadata": {},
   "outputs": [],
   "source": [
    "#transpose matrices\n",
    "x_train = x_train.T\n",
    "y_train = y_train.T\n",
    "x_test = x_test.T\n",
    "y_test = y_test.T"
   ]
  },
  {
   "cell_type": "code",
   "execution_count": 48,
   "metadata": {},
   "outputs": [],
   "source": [
    "# weight = 0.01 and bias = 0.0\n",
    "#initialize\n",
    "def initialize(dimension):\n",
    "    \n",
    "    weight = np.full((dimension,1),0.01)\n",
    "    bias = 0.0\n",
    "    return weight,bias"
   ]
  },
  {
   "cell_type": "code",
   "execution_count": 49,
   "metadata": {},
   "outputs": [],
   "source": [
    "def sigmoid(z):\n",
    "    \n",
    "    y_head = 1/(1+ np.exp(-z))\n",
    "    return y_head"
   ]
  },
  {
   "cell_type": "code",
   "execution_count": 50,
   "metadata": {},
   "outputs": [],
   "source": [
    "def forwardBackward(weight,bias,x_train,y_train):\n",
    "    # Forward\n",
    "    \n",
    "    y_head = sigmoid(np.dot(weight.T,x_train) + bias)\n",
    "    loss = -(y_train*np.log(y_head) + (1-y_train)*np.log(1-y_head))\n",
    "    cost = np.sum(loss) / x_train.shape[1]\n",
    "    \n",
    "    # Backward\n",
    "    derivative_weight = np.dot(x_train,((y_head-y_train).T))/x_train.shape[1]\n",
    "    derivative_bias = np.sum(y_head-y_train)/x_train.shape[1]\n",
    "    gradients = {\"Derivative Weight\" : derivative_weight, \"Derivative Bias\" : derivative_bias}\n",
    "    \n",
    "    return cost,gradients"
   ]
  },
  {
   "cell_type": "code",
   "execution_count": 51,
   "metadata": {},
   "outputs": [],
   "source": [
    "def update(weight,bias,x_train,y_train,learningRate,iteration) :\n",
    "    costList = []\n",
    "    index = []\n",
    "    \n",
    "    #for each iteration, update weight and bias values\n",
    "    for i in range(iteration):\n",
    "        cost,gradients = forwardBackward(weight,bias,x_train,y_train)\n",
    "        weight = weight - learningRate * gradients[\"Derivative Weight\"]\n",
    "        bias = bias - learningRate * gradients[\"Derivative Bias\"]\n",
    "        \n",
    "        costList.append(cost)\n",
    "        index.append(i)\n",
    "\n",
    "    parameters = {\"weight\": weight,\"bias\": bias}\n",
    "    \n",
    "    print(\"iteration:\",iteration)\n",
    "    print(\"cost:\",cost)\n",
    "\n",
    "    plt.plot(index,costList)\n",
    "    plt.xlabel(\"Number of Iteration\")\n",
    "    plt.ylabel(\"Cost\")\n",
    "    plt.show()\n",
    "\n",
    "    return parameters, gradients"
   ]
  },
  {
   "cell_type": "code",
   "execution_count": 52,
   "metadata": {},
   "outputs": [],
   "source": [
    "def predict(weight,bias,x_test):\n",
    "    z = np.dot(weight.T,x_test) + bias\n",
    "    y_head = sigmoid(z)\n",
    "\n",
    "    y_prediction = np.zeros((1,x_test.shape[1]))\n",
    "    \n",
    "    for i in range(y_head.shape[1]):\n",
    "        if y_head[0,i] <= 0.5:\n",
    "            y_prediction[0,i] = 0\n",
    "        else:\n",
    "            y_prediction[0,i] = 1\n",
    "    return y_prediction"
   ]
  },
  {
   "cell_type": "code",
   "execution_count": 53,
   "metadata": {},
   "outputs": [],
   "source": [
    "def logistic_regression(x_train,y_train,x_test,y_test,learningRate,iteration):\n",
    "    dimension = x_train.shape[0]\n",
    "    weight,bias = initialize(dimension)\n",
    "    \n",
    "    parameters, gradients = update(weight,bias,x_train,y_train,learningRate,iteration)\n",
    "\n",
    "    y_prediction = predict(parameters[\"weight\"],parameters[\"bias\"],x_test)\n",
    "    \n",
    "    print(\"Manuel Test Accuracy: {:.2f}%\".format((100 - np.mean(np.abs(y_prediction - y_test))*100)))"
   ]
  },
  {
   "cell_type": "code",
   "execution_count": 54,
   "metadata": {},
   "outputs": [
    {
     "name": "stdout",
     "output_type": "stream",
     "text": [
      "position          float64\n",
      "reference_kmer    float64\n",
      "event_length      float64\n",
      "model_mean        float64\n",
      "dtype: object\n"
     ]
    }
   ],
   "source": [
    "print(x.dtypes)\n"
   ]
  },
  {
   "cell_type": "code",
   "execution_count": 55,
   "metadata": {},
   "outputs": [
    {
     "name": "stderr",
     "output_type": "stream",
     "text": [
      "/tmp/ipykernel_128616/833209203.py:5: RuntimeWarning: divide by zero encountered in log\n",
      "  loss = -(y_train*np.log(y_head) + (1-y_train)*np.log(1-y_head))\n",
      "/tmp/ipykernel_128616/833209203.py:5: RuntimeWarning: invalid value encountered in multiply\n",
      "  loss = -(y_train*np.log(y_head) + (1-y_train)*np.log(1-y_head))\n",
      "/projects/ly_vu_direct_rna/pipeline-polya-diff/.snakemake/conda/b03f8a95a14cdc0ca0aa7496df1e519e/lib/python3.11/site-packages/numpy/core/fromnumeric.py:86: RuntimeWarning: invalid value encountered in reduce\n",
      "  return ufunc.reduce(obj, axis, dtype, out, **passkwargs)\n"
     ]
    },
    {
     "name": "stdout",
     "output_type": "stream",
     "text": [
      "iteration: 1000\n",
      "cost: nan\n"
     ]
    },
    {
     "data": {
      "image/png": "[encoded data removed]",
      "text/plain": [
       "<Figure size 640x480 with 1 Axes>"
      ]
     },
     "metadata": {},
     "output_type": "display_data"
    },
    {
     "name": "stdout",
     "output_type": "stream",
     "text": [
      "Manuel Test Accuracy: 0.58%\n"
     ]
    }
   ],
   "source": [
    "logistic_regression(x_train,y_train,x_test,y_test,1,1000)"
   ]
  },
  {
   "cell_type": "code",
   "execution_count": 56,
   "metadata": {},
   "outputs": [
    {
     "name": "stdout",
     "output_type": "stream",
     "text": [
      "Test Accuracy 75.69%\n"
     ]
    },
    {
     "name": "stderr",
     "output_type": "stream",
     "text": [
      "/projects/ly_vu_direct_rna/pipeline-polya-diff/.snakemake/conda/b03f8a95a14cdc0ca0aa7496df1e519e/lib/python3.11/site-packages/sklearn/linear_model/_logistic.py:458: ConvergenceWarning: lbfgs failed to converge (status=1):\n",
      "STOP: TOTAL NO. of ITERATIONS REACHED LIMIT.\n",
      "\n",
      "Increase the number of iterations (max_iter) or scale the data as shown in:\n",
      "    https://scikit-learn.org/stable/modules/preprocessing.html\n",
      "Please also refer to the documentation for alternative solver options:\n",
      "    https://scikit-learn.org/stable/modules/linear_model.html#logistic-regression\n",
      "  n_iter_i = _check_optimize_result(\n"
     ]
    }
   ],
   "source": [
    "accuracies = {}\n",
    "\n",
    "lr = LogisticRegression()\n",
    "lr.fit(x_train.T,y_train.T)\n",
    "acc = lr.score(x_test.T,y_test.T)*100\n",
    "\n",
    "accuracies['Logistic Regression'] = acc\n",
    "print(\"Test Accuracy {:.2f}%\".format(acc))"
   ]
  },
  {
   "cell_type": "code",
   "execution_count": 57,
   "metadata": {},
   "outputs": [
    {
     "name": "stdout",
     "output_type": "stream",
     "text": [
      "Random Forest Algorithm Accuracy Score : 80.77%\n"
     ]
    }
   ],
   "source": [
    "# Random Forest Classification\n",
    "from sklearn.ensemble import RandomForestClassifier\n",
    "rf = RandomForestClassifier(n_estimators = 1000, random_state = 1)\n",
    "rf.fit(x_train.T, y_train.T)\n",
    "\n",
    "acc = rf.score(x_test.T,y_test.T)*100\n",
    "accuracies['Random Forest'] = acc\n",
    "print(\"Random Forest Algorithm Accuracy Score : {:.2f}%\".format(acc))"
   ]
  },
  {
   "cell_type": "code",
   "execution_count": 65,
   "metadata": {},
   "outputs": [
    {
     "name": "stdout",
     "output_type": "stream",
     "text": [
      "[3 0 1 ... 1 1 0]\n"
     ]
    }
   ],
   "source": [
    "y_pred = rf.predict(x_test.T)\n",
    "print(y_pred)"
   ]
  },
  {
   "cell_type": "code",
   "execution_count": 58,
   "metadata": {},
   "outputs": [
    {
     "name": "stdout",
     "output_type": "stream",
     "text": [
      "2 NN Score: 75.86%\n"
     ]
    }
   ],
   "source": [
    "# KNN Model\n",
    "from sklearn.neighbors import KNeighborsClassifier\n",
    "knn = KNeighborsClassifier(n_neighbors = 2)  # n_neighbors means k\n",
    "knn.fit(x_train.T, y_train.T)\n",
    "prediction = knn.predict(x_test.T)\n",
    "\n",
    "print(\"{} NN Score: {:.2f}%\".format(2, knn.score(x_test.T, y_test.T)*100))"
   ]
  },
  {
   "cell_type": "code",
   "execution_count": 59,
   "metadata": {},
   "outputs": [
    {
     "data": {
      "image/png": "[encoded data removed]",
      "text/plain": [
       "<Figure size 640x480 with 1 Axes>"
      ]
     },
     "metadata": {},
     "output_type": "display_data"
    },
    {
     "name": "stdout",
     "output_type": "stream",
     "text": [
      "Maximum KNN Score is 81.64%\n"
     ]
    }
   ],
   "source": [
    "# try ro find best k value\n",
    "scoreList = []\n",
    "for i in range(1,20):\n",
    "    knn2 = KNeighborsClassifier(n_neighbors = i)  # n_neighbors means k\n",
    "    knn2.fit(x_train.T, y_train.T)\n",
    "    scoreList.append(knn2.score(x_test.T, y_test.T))\n",
    "    \n",
    "plt.plot(range(1,20), scoreList)\n",
    "plt.xticks(np.arange(1,20,1))\n",
    "plt.xlabel(\"K value\")\n",
    "plt.ylabel(\"Score\")\n",
    "plt.show()\n",
    "\n",
    "acc = max(scoreList)*100\n",
    "accuracies['KNN'] = acc\n",
    "print(\"Maximum KNN Score is {:.2f}%\".format(acc))"
   ]
  },
  {
   "cell_type": "code",
   "execution_count": 60,
   "metadata": {},
   "outputs": [
    {
     "name": "stdout",
     "output_type": "stream",
     "text": [
      "Test Accuracy of SVM Algorithm: 79.27%\n"
     ]
    }
   ],
   "source": [
    "from sklearn.svm import SVC\n",
    "svm = SVC(random_state = 1)\n",
    "svm.fit(x_train.T, y_train.T)\n",
    "\n",
    "acc = svm.score(x_test.T,y_test.T)*100\n",
    "accuracies['SVM'] = acc\n",
    "print(\"Test Accuracy of SVM Algorithm: {:.2f}%\".format(acc))"
   ]
  },
  {
   "cell_type": "code",
   "execution_count": 61,
   "metadata": {},
   "outputs": [
    {
     "name": "stdout",
     "output_type": "stream",
     "text": [
      "Accuracy of Naive Bayes: 73.21%\n"
     ]
    }
   ],
   "source": [
    "from sklearn.naive_bayes import GaussianNB\n",
    "nb = GaussianNB()\n",
    "nb.fit(x_train.T, y_train.T)\n",
    "\n",
    "acc = nb.score(x_test.T,y_test.T)*100\n",
    "accuracies['Naive Bayes'] = acc\n",
    "print(\"Accuracy of Naive Bayes: {:.2f}%\".format(acc))"
   ]
  },
  {
   "cell_type": "code",
   "execution_count": 62,
   "metadata": {},
   "outputs": [
    {
     "name": "stdout",
     "output_type": "stream",
     "text": [
      "Decision Tree Test Accuracy 80.33%\n"
     ]
    }
   ],
   "source": [
    "from sklearn.tree import DecisionTreeClassifier\n",
    "dtc = DecisionTreeClassifier()\n",
    "dtc.fit(x_train.T, y_train.T)\n",
    "\n",
    "acc = dtc.score(x_test.T, y_test.T)*100\n",
    "accuracies['Decision Tree'] = acc\n",
    "print(\"Decision Tree Test Accuracy {:.2f}%\".format(acc))"
   ]
  },
  {
   "cell_type": "code",
   "execution_count": 63,
   "metadata": {},
   "outputs": [
    {
     "data": {
      "image/png": "[encoded data removed]",
      "text/plain": [
       "<Figure size 1600x500 with 1 Axes>"
      ]
     },
     "metadata": {},
     "output_type": "display_data"
    }
   ],
   "source": [
    "colors = [\"purple\", \"green\", \"orange\", \"magenta\",\"#CFC60E\",\"#0FBBAE\"]\n",
    "\n",
    "sns.set_style(\"whitegrid\")\n",
    "plt.figure(figsize=(16,5))\n",
    "plt.yticks(np.arange(0,100,10))\n",
    "plt.ylabel(\"Accuracy %\")\n",
    "plt.xlabel(\"Algorithms\")\n",
    "sns.barplot(x=list(accuracies.keys()), y=list(accuracies.values()), palette=colors)\n",
    "plt.show()"
   ]
  }
 ],
 "metadata": {
  "kernelspec": {
   "display_name": "Python 3",
   "language": "python",
   "name": "python3"
  },
  "language_info": {
   "codemirror_mode": {
    "name": "ipython",
    "version": 3
   },
   "file_extension": ".py",
   "mimetype": "text/x-python",
   "name": "python",
   "nbconvert_exporter": "python",
   "pygments_lexer": "ipython3",
   "version": "3.11.2"
  },
  "orig_nbformat": 4
 },
 "nbformat": 4,
 "nbformat_minor": 2
}
